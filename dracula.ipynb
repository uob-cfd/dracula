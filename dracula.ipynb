{
 "cells": [
  {
   "cell_type": "markdown",
   "id": "8f42855c",
   "metadata": {},
   "source": [
    "# Pride, Prejudice and Vampires\n",
    "\n",
    "If you squint your eyes and look sideways, this exercise is a little like the\n",
    "classic [Pride and Prejudice and\n",
    "Zombies](https://en.wikipedia.org/wiki/Pride_and_Prejudice_and_Zombies).  OK,\n",
    "it's not as classic as the original book, but still, a classic in its own way."
   ]
  },
  {
   "cell_type": "markdown",
   "id": "f2659ace",
   "metadata": {},
   "source": [
    "For this exercise, you are going to adapt the original [Literary\n",
    "Characters][litchar] notebook so that, instead of analyzing the text of \"Pride and\n",
    "Prejudice\", it analyzes the text of\n",
    "[Dracula](https://en.wikipedia.org/wiki/Dracula) by Bram Stoker.\n",
    "\n",
    "[litchar]: https://matthew-brett.github.io/cfd2020/intro/Literary_Characters.html\n",
    "\n",
    "You can find the full text of Bram Stoker's Dracula at\n",
    "<http://www.gutenberg.org/ebooks/345.txt.utf-8>."
   ]
  },
  {
   "cell_type": "markdown",
   "id": "808cd724",
   "metadata": {},
   "source": [
    "## Don't worry about the details\n",
    "\n",
    "The exercise asks you to edit the code in the original notebook, but, like the\n",
    "original notebook, we do not expect you to fully understand this code.  You\n",
    "will learn many aspects of how this code works over the rest of the course."
   ]
  },
  {
   "cell_type": "markdown",
   "id": "4b01d95a",
   "metadata": {},
   "source": [
    "## The task\n",
    "\n",
    "Below, you will see the code cells from the original Literary Characters\n",
    "notebook.  Your task is to edit these code cells so the notebook analyzes\n",
    "\"Dracula\" instead of \"Pride and Prejudice\"."
   ]
  },
  {
   "cell_type": "markdown",
   "id": "709abbf8",
   "metadata": {},
   "source": [
    "## The initial warmup stuff - just run this cell\n",
    "\n",
    "The cell below loads in some libraries we will use.  Don't worry about the\n",
    "details of this cell, just type shift with Enter to **run** the cell.\n",
    "\n",
    "Make sure you have run the cell.  When you have run the cell, you should see a\n",
    "number in the `In [ ]` text at the left hand side of the cell.  For example,\n",
    "you might see `In [1]`, meaning that this is the first cell you have run."
   ]
  },
  {
   "cell_type": "code",
   "execution_count": null,
   "id": "6c49e078",
   "metadata": {
    "tags": [
     "hide-cell"
    ]
   },
   "outputs": [],
   "source": [
    "# Just run this cell.\n",
    "# The standard set of libraries we need.\n",
    "import numpy as np\n",
    "import matplotlib.pyplot as plt\n",
    "%matplotlib inline\n",
    "\n",
    "# Make plots look a little bit more fancy.\n",
    "plt.style.use('fivethirtyeight')\n",
    "\n",
    "# The standard library for data in tables.\n",
    "import pandas as pd\n",
    "\n",
    "import requests"
   ]
  },
  {
   "cell_type": "markdown",
   "id": "1d3098ce",
   "metadata": {},
   "source": [
    "https://www.gutenberg.org/cache/epub/345/pg345.txt## Change the URL to point to Bram Stoker's Dracula\n",
    "\n",
    "In the cell below, replace this text:\n",
    "\n",
    "```\n",
    "book_url = 'http://www.gutenberg.org/ebooks/42671.txt.utf-8'\n",
    "```\n",
    "\n",
    "with:\n",
    "\n",
    "```\n",
    "book_url = 'https://www.gutenberg.org/cache/epub/345/pg345.txt'\n",
    "```\n",
    "\n",
    "Type shift with Enter to run the cell below.  This will read the text of\n",
    "\"Dracula\" into the computer memory, instead of the text of \"Pride and\n",
    "Prejudice\"."
   ]
  },
  {
   "cell_type": "code",
   "execution_count": null,
   "id": "cac00a8e",
   "metadata": {},
   "outputs": [],
   "source": [
    "#- Read the book text.\n",
    "book_url = 'http://www.gutenberg.org/ebooks/42671.txt.utf-8'\n",
    "\n",
    "response = requests.get(book_url)\n",
    "book_text = response.text\n",
    "\n",
    "print(book_text[:500])"
   ]
  },
  {
   "cell_type": "markdown",
   "id": "5b3f22ac",
   "metadata": {},
   "source": [
    "Look at the text that Python prints.  Make sure it's the first 500 characters\n",
    "of \"Dracula\" and not \"Pride and Prejudice\".  If you the text is from \"Dracula\",\n",
    "the first line printed above should be \"The Project Gutenberg EBook of Dracula,\n",
    "by Bram Stoker\".\n",
    "\n",
    "If the text printed is still from \"Pride and Prejudice\", go back and check you\n",
    "have changed the URL, as above, and that you have run the cell reading in the\n",
    "text."
   ]
  },
  {
   "cell_type": "markdown",
   "id": "d1182436",
   "metadata": {},
   "source": [
    "## Split the book text into chapters\n",
    "\n",
    "Run the code cell below (Shift-Enter) to split the text into chapters:"
   ]
  },
  {
   "cell_type": "code",
   "execution_count": null,
   "id": "48026f78",
   "metadata": {},
   "outputs": [],
   "source": [
    "# Just run this cell.\n",
    "# Break the text into Chapters\n",
    "book_chapters = book_text.split('CHAPTER ')\n",
    "# Drop the first \"Chapter\" - it's the Project Gutenberg header\n",
    "book_chapters = book_chapters[1:]"
   ]
  },
  {
   "cell_type": "markdown",
   "id": "cbb27636",
   "metadata": {},
   "source": [
    "## Count how many times each character name occurs\n",
    "\n",
    "Oops, sorry for the accidental pun about \"count\".\n",
    "\n",
    "The next task is to change the character names from those in \"Pride and\n",
    "Prejudice\", to those in \"Dracula\".\n",
    "\n",
    "We are going to look for these character names:\n",
    "\n",
    "* Count (for Count Dracula),\n",
    "* Harker (for Jonathan Harker, the hero),\n",
    "* Mina (for Mina Murray, Harker's fiancé),\n",
    "* Seward (for John Seward, Harker's friend),\n",
    "* Helsing (for Abraham Van Helsing, Seward's teacher, and all-round expert),\n",
    "* Quincey (for Quincey Morris, an American cowboy and explorer).\n",
    "\n",
    "I know, only the female and the American characters have first names, I can\n",
    "only apologize on behalf of Mr Stoker.  And Jane Austen, actually.  But hey.\n",
    "\n",
    "In the main cell below, replace `'Elizabeth'` with `'Count'`, so the first few\n",
    "lines of the cell go from this (the original \"Pride and Prejudice\" version):\n",
    "\n",
    "```\n",
    "# Count how many times the characters appear in each chapter.\n",
    "counts = pd.DataFrame.from_dict({\n",
    "        'Elizabeth': np.char.count(book_chapters, 'Elizabeth'),\n",
    "```\n",
    "\n",
    "to this (the \"Dracula\" version):\n",
    "\n",
    "```\n",
    "# Count how many times the characters appear in each chapter.\n",
    "counts = pd.DataFrame.from_dict({\n",
    "        'Count': np.char.count(book_chapters, 'Count'),\n",
    "```\n",
    "\n",
    "Notice I replaced `'Elizabeth'` twice, once at the beginning and once at the\n",
    "end of the line.\n",
    "\n",
    "Now continue replacing:\n",
    "\n",
    "* `'Darcy'` with `'Harker'`\n",
    "* `'Lydia'` with `'Mina'`\n",
    "* `'Wickham'` with `'Seward'`\n",
    "* `'Bingley'` with `'Helsing'`\n",
    "* `'Jane'` with `'Quincey'`\n",
    "\n",
    "Here is the code cell you need to change:"
   ]
  },
  {
   "cell_type": "code",
   "execution_count": null,
   "id": "fffcbba8",
   "metadata": {},
   "outputs": [],
   "source": [
    "#- Count how many times the characters appear in each chapter.\n",
    "#- Change this cell to look for the Dracula names.\n",
    "counts = pd.DataFrame.from_dict({\n",
    "        'Elizabeth': np.char.count(book_chapters, 'Elizabeth'),\n",
    "        'Darcy': np.char.count(book_chapters, 'Darcy'),\n",
    "        'Lydia': np.char.count(book_chapters, 'Lydia'),\n",
    "        'Wickham': np.char.count(book_chapters, 'Wickham'),\n",
    "        'Bingley': np.char.count(book_chapters, 'Bingley'),\n",
    "        'Jane': np.char.count(book_chapters, 'Jane')},\n",
    "    )\n",
    "# Show the first five rows of the table\n",
    "counts.head()"
   ]
  },
  {
   "cell_type": "markdown",
   "id": "dc1044a9",
   "metadata": {},
   "source": [
    "Try running the cell above with shift-Enter.\n",
    "\n",
    "If you get an error, look very carefully at the code - like all programming\n",
    "languages, Python is very fussy about little things like commas and brackets.\n",
    "Check [the original][litchar] to see if you can see the difference between your\n",
    "current code and the original code cell.  Get someone else to have a look, if\n",
    "you get stuck, you will be surprised how much difference it makes."
   ]
  },
  {
   "cell_type": "markdown",
   "id": "3ea79c53",
   "metadata": {},
   "source": [
    "## Show the graph\n",
    "\n",
    "Now you have the character counts, you can just run the code below, to show the\n",
    "graphs of the cumulative counts."
   ]
  },
  {
   "cell_type": "code",
   "execution_count": null,
   "id": "03784c40",
   "metadata": {},
   "outputs": [],
   "source": [
    "# Just run this cell.\n",
    "# The cumulative counts:\n",
    "# how many times in Chapter 1, how many times in Chapters 1 and 2, and so on.\n",
    "cum_counts = counts.cumsum()\n",
    "\n",
    "# Add the chapter numbers\n",
    "number_of_chapters = len(book_chapters)\n",
    "cum_counts['Chapter'] = np.arange(number_of_chapters)\n",
    "\n",
    "# Do the plot\n",
    "cum_counts.plot(x='Chapter')\n",
    "plt.title('Cumulative Number of Times Each Name Appears');"
   ]
  },
  {
   "cell_type": "markdown",
   "id": "18cedfaa",
   "metadata": {},
   "source": [
    "In the plot above, the horizontal axis shows chapter numbers and the vertical\n",
    "axis shows how many times each character has been mentioned up to and\n",
    "including that chapter."
   ]
  },
  {
   "cell_type": "markdown",
   "id": "a0b7a4c9",
   "metadata": {},
   "source": [
    "## Questions for reflection\n",
    "\n",
    "In roughly what chapter does the Count (Dracula) start to have a big role? How\n",
    "about Van Helsing?\n",
    "\n",
    "Is there something funny about the chapters? You may notice that all the\n",
    "characters seem to start rather late in the chapter sequence.  Investigate to\n",
    "see why this is.  If you are feeling adventurous, you may want to look at the\n",
    "chapter lengths, using the code in [Another Kind of Character][anotherchar],\n",
    "and by looking at the original text at\n",
    "<http://www.gutenberg.org/ebooks/345.txt.utf-8>.  If you can, put an\n",
    "explanation with some code at the end of the notebook to say what you think is\n",
    "going on.\n",
    "\n",
    "[anotherchar]: https://matthew-brett.github.io/cfd2020/intro/Another_Kind_Of_Character.html"
   ]
  },
  {
   "cell_type": "code",
   "execution_count": null,
   "id": "e2498268",
   "metadata": {},
   "outputs": [],
   "source": [
    "# Maybe you want to put some code here."
   ]
  }
 ],
 "metadata": {
  "jupytext": {
   "notebook_metadata_filter": "jupytext_format_version,jupytext_formats,language_info",
   "text_representation": {
    "extension": ".Rmd",
    "format_name": "rmarkdown",
    "format_version": "1.2",
    "jupytext_version": "1.10.3"
   }
  },
  "kernelspec": {
   "display_name": "Python 3 (ipykernel)",
   "language": "python",
   "name": "python3"
  },
  "language_info": {
   "codemirror_mode": {
    "name": "ipython",
    "version": 3
   },
   "file_extension": ".py",
   "mimetype": "text/x-python",
   "name": "python",
   "nbconvert_exporter": "python",
   "pygments_lexer": "ipython3",
   "version": "3.8.8"
  }
 },
 "nbformat": 4,
 "nbformat_minor": 5
}
